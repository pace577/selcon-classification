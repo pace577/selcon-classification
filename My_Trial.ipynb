{
 "cells": [
  {
   "cell_type": "code",
   "execution_count": 1,
   "id": "dcc734eb-a7d6-4d71-9036-940a5a5724e3",
   "metadata": {
    "tags": []
   },
   "outputs": [
    {
     "name": "stdout",
     "output_type": "stream",
     "text": [
      "['/home/hassan/selcon-classification', '/home/hassan/.conda/envs/ldm/lib/python38.zip', '/home/hassan/.conda/envs/ldm/lib/python3.8', '/home/hassan/.conda/envs/ldm/lib/python3.8/lib-dynload', '', '/home/hassan/.local/lib/python3.8/site-packages', '/home/hassan/.conda/envs/ldm/lib/python3.8/site-packages', '/home/hassan/stable-diffusion/src/taming-transformers', '/home/hassan/stable-diffusion', '/home/hassan/stable-diffusion/src/clip', '/home/hassan/segmentation_in_diffusion']\n"
     ]
    }
   ],
   "source": [
    "import sys\n",
    "print(sys.path)"
   ]
  },
  {
   "cell_type": "code",
   "execution_count": 2,
   "id": "014c7df9-2573-4434-a892-569ac57f3173",
   "metadata": {
    "tags": []
   },
   "outputs": [],
   "source": [
    "sys.path.append(\"/home/hassan/selcon-classification/SELCON\")"
   ]
  },
  {
   "cell_type": "code",
   "execution_count": 3,
   "id": "5fd97cb3-3726-4145-a629-3f04d29c1e46",
   "metadata": {
    "tags": []
   },
   "outputs": [
    {
     "name": "stderr",
     "output_type": "stream",
     "text": [
      "/home/hassan/.conda/envs/ldm/lib/python3.8/site-packages/torchvision/io/image.py:13: UserWarning: Failed to load image Python extension: /home/hassan/.conda/envs/ldm/lib/python3.8/site-packages/torchvision/image.so: undefined symbol: _ZNK3c1010TensorImpl36is_contiguous_nondefault_policy_implENS_12MemoryFormatE\n",
      "  warn(f\"Failed to load image Python extension: {e}\")\n"
     ]
    },
    {
     "name": "stdout",
     "output_type": "stream",
     "text": [
      "Using Device: cuda\n"
     ]
    }
   ],
   "source": [
    "from SELCON.datasets import load_def_data, get_data\n",
    "from SELCON.logistic import Regression"
   ]
  },
  {
   "cell_type": "code",
   "execution_count": 4,
   "id": "99dcd36f-5201-4264-8b71-588d10941f45",
   "metadata": {
    "tags": []
   },
   "outputs": [],
   "source": [
    "import numpy as np\n",
    "X=np.load('./Dataset/features.npy')\n",
    "y=np.load('./Dataset/labels.npy')"
   ]
  },
  {
   "cell_type": "code",
   "execution_count": 4,
   "id": "b0973076-26e5-4cd7-8b85-d4e5dc39a35c",
   "metadata": {
    "tags": []
   },
   "outputs": [
    {
     "ename": "NameError",
     "evalue": "name 'X' is not defined",
     "output_type": "error",
     "traceback": [
      "\u001b[0;31m---------------------------------------------------------------------------\u001b[0m",
      "\u001b[0;31mNameError\u001b[0m                                 Traceback (most recent call last)",
      "Cell \u001b[0;32mIn[4], line 2\u001b[0m\n\u001b[1;32m      1\u001b[0m \u001b[38;5;28;01mfrom\u001b[39;00m \u001b[38;5;21;01msklearn\u001b[39;00m\u001b[38;5;21;01m.\u001b[39;00m\u001b[38;5;21;01mmodel_selection\u001b[39;00m \u001b[38;5;28;01mimport\u001b[39;00m train_test_split\n\u001b[0;32m----> 2\u001b[0m X_train, X_val, y_train, y_val \u001b[38;5;241m=\u001b[39m train_test_split(\u001b[43mX\u001b[49m,y, test_size\u001b[38;5;241m=\u001b[39m\u001b[38;5;241m0.20\u001b[39m, random_state\u001b[38;5;241m=\u001b[39m\u001b[38;5;241m42\u001b[39m)\n",
      "\u001b[0;31mNameError\u001b[0m: name 'X' is not defined"
     ]
    }
   ],
   "source": [
    "from sklearn.model_selection import train_test_split\n",
    "X_train, X_val, y_train, y_val = train_test_split(X,y, test_size=0.20, random_state=42)"
   ]
  },
  {
   "cell_type": "code",
   "execution_count": 4,
   "id": "c856c4ef-838f-4e93-8e22-2d8590f2fbf6",
   "metadata": {
    "tags": []
   },
   "outputs": [],
   "source": [
    "(X_train,y_train),(X_val,y_val),(X_test,y_test)=load_def_data('Custom_Data',class_sep=3.0)"
   ]
  },
  {
   "cell_type": "code",
   "execution_count": 8,
   "id": "f2403b9c-5cbb-4633-8dbe-491cec53756d",
   "metadata": {
    "tags": []
   },
   "outputs": [
    {
     "data": {
      "text/plain": [
       "torch.Size([20800, 10])"
      ]
     },
     "execution_count": 8,
     "metadata": {},
     "output_type": "execute_result"
    }
   ],
   "source": [
    "X_train.shape"
   ]
  },
  {
   "cell_type": "code",
   "execution_count": 9,
   "id": "cd4ac123-9802-47e8-b5e5-8e3d8e3b3bba",
   "metadata": {
    "tags": []
   },
   "outputs": [
    {
     "data": {
      "text/plain": [
       "torch.Size([20800])"
      ]
     },
     "execution_count": 9,
     "metadata": {},
     "output_type": "execute_result"
    }
   ],
   "source": [
    "y_train.shape"
   ]
  },
  {
   "cell_type": "code",
   "execution_count": 11,
   "id": "ef93c5df-f9ad-41f1-b4d8-b2b21654bd8c",
   "metadata": {
    "tags": []
   },
   "outputs": [
    {
     "data": {
      "text/plain": [
       "torch.Size([2080, 10])"
      ]
     },
     "execution_count": 11,
     "metadata": {},
     "output_type": "execute_result"
    }
   ],
   "source": [
    "X_val.shape"
   ]
  },
  {
   "cell_type": "code",
   "execution_count": 15,
   "id": "2fe14f91-c4db-4413-a2d8-cf83df0821b2",
   "metadata": {
    "tags": []
   },
   "outputs": [
    {
     "data": {
      "text/plain": [
       "torch.Size([80])"
      ]
     },
     "execution_count": 15,
     "metadata": {},
     "output_type": "execute_result"
    }
   ],
   "source": [
    "y_train.shape"
   ]
  },
  {
   "cell_type": "code",
   "execution_count": 5,
   "id": "accbccf9-6d86-416d-bd2f-927a90ee7074",
   "metadata": {
    "tags": []
   },
   "outputs": [
    {
     "name": "stdout",
     "output_type": "stream",
     "text": [
      "Budget, fraction and N: 8 0.1 80\n",
      "starting Pre compute\n",
      "val_out shape  torch.Size([16])\n",
      "targets shape  torch.Size([16])\n",
      "val_out shape  torch.Size([16])\n",
      "targets shape  torch.Size([16])\n",
      "val_out shape  torch.Size([16])\n",
      "targets shape  torch.Size([16])\n",
      "val_out shape  torch.Size([16])\n",
      "targets shape  torch.Size([16])\n",
      "val_out shape  torch.Size([16])\n",
      "targets shape  torch.Size([16])\n",
      "val_out shape  torch.Size([16])\n",
      "targets shape  torch.Size([16])\n",
      "val_out shape  torch.Size([16])\n",
      "targets shape  torch.Size([16])\n",
      "val_out shape  torch.Size([16])\n",
      "targets shape  torch.Size([16])\n",
      "val_out shape  torch.Size([16])\n",
      "targets shape  torch.Size([16])\n",
      "val_out shape  torch.Size([16])\n",
      "targets shape  torch.Size([16])\n",
      "val_out shape  torch.Size([16])\n",
      "targets shape  torch.Size([16])\n",
      "val_out shape  torch.Size([16])\n",
      "targets shape  torch.Size([16])\n",
      "val_out shape  torch.Size([16])\n",
      "targets shape  torch.Size([16])\n",
      "val_out shape  torch.Size([16])\n",
      "targets shape  torch.Size([16])\n",
      "val_out shape  torch.Size([16])\n",
      "targets shape  torch.Size([16])\n",
      "val_out shape  torch.Size([16])\n",
      "targets shape  torch.Size([16])\n",
      "Finishing F phi\n",
      "8.577879905700684\n",
      "tensor([39.3720,  1.1997,  2.8076,  2.2827, 23.0633, 39.4340, 15.6496,  0.9920,\n",
      "         5.8667,  0.7375], device='cuda:0')\n",
      "Finishing Element wise F\n",
      "Starting Subset of size  0.1  with fairness Run!\n",
      "Epoch: 1 SubsetTrn 18.205734252929688\n",
      "Previous loss:  1000 \n",
      " Temporary loss:  18.205734252929688 \n",
      " Constraint:  tensor([34.0575], device='cuda:0', grad_fn=<SubBackward0>) \n",
      " Alphas:  tensor([0.2040], device='cuda:0', requires_grad=True)\n"
     ]
    },
    {
     "name": "stderr",
     "output_type": "stream",
     "text": [
      "/home/hassan/selcon-classification/SELCON/model/SELCON.py:226: UserWarning: This overload of add_ is deprecated:\n",
      "\tadd_(Number alpha, Tensor other)\n",
      "Consider using one of the following signatures instead:\n",
      "\tadd_(Tensor other, *, Number alpha) (Triggered internally at ../torch/csrc/utils/python_arg_parser.cpp:1420.)\n",
      "  exp_avg_w.mul_(beta1).add_(1.0 - beta1, weight_grad)\n"
     ]
    },
    {
     "name": "stdout",
     "output_type": "stream",
     "text": [
      "First 10 subset indices:  [9, 17, 24, 37, 53, 54, 59, 77]\n",
      "Epoch: 51 SubsetTrn 7.373469829559326\n",
      "Previous loss:  7.525265216827393 \n",
      " Temporary loss:  7.373469829559326 \n",
      " Constraint:  tensor([10.2214], device='cuda:0', grad_fn=<SubBackward0>) \n",
      " Alphas:  tensor([0.6756], device='cuda:0', requires_grad=True)\n",
      "First 10 subset indices:  [9, 24, 37, 44, 54, 59, 64, 77]\n",
      "Epoch: 101 SubsetTrn 0.3410218358039856\n",
      "Previous loss:  0.41373246908187866 \n",
      " Temporary loss:  0.3410218358039856 \n",
      " Constraint:  tensor([0.1787], device='cuda:0', grad_fn=<SubBackward0>) \n",
      " Alphas:  tensor([1.0640], device='cuda:0', requires_grad=True)\n",
      "First 10 subset indices:  [9, 24, 37, 44, 54, 59, 64, 77]\n",
      "First 10 subset indices:  [9, 24, 37, 44, 54, 59, 64, 77]\n",
      "Epoch: 151 SubsetTrn 0.0010352046228945255\n",
      "Previous loss:  0.0010200717952102423 \n",
      " Temporary loss:  0.0010352046228945255 \n",
      " Constraint:  tensor([-0.2894], device='cuda:0', grad_fn=<SubBackward0>) \n",
      " Alphas:  tensor([1.1045], device='cuda:0', requires_grad=True)\n",
      "First 10 subset indices:  [9, 24, 37, 44, 54, 59, 64, 77]\n",
      "Epoch: 201 SubsetTrn 0.00019022499327547848\n",
      "Previous loss:  0.00019657606026157737 \n",
      " Temporary loss:  0.00019022499327547848 \n",
      " Constraint:  tensor([-0.2425], device='cuda:0', grad_fn=<SubBackward0>) \n",
      " Alphas:  tensor([1.1048], device='cuda:0', requires_grad=True)\n",
      "First 10 subset indices:  [9, 24, 37, 44, 54, 59, 64, 77]\n",
      "First 10 subset indices:  [9, 24, 37, 44, 54, 59, 64, 77]\n",
      "Epoch: 251 SubsetTrn 6.393331568688154e-05\n",
      "Previous loss:  6.456511619035155e-05 \n",
      " Temporary loss:  6.393331568688154e-05 \n",
      " Constraint:  tensor([-0.1732], device='cuda:0', grad_fn=<SubBackward0>) \n",
      " Alphas:  tensor([1.1048], device='cuda:0', requires_grad=True)\n",
      "First 10 subset indices:  [9, 24, 37, 44, 54, 59, 64, 77]\n",
      "Epoch: 301 SubsetTrn 5.3707772167399526e-05\n",
      "Previous loss:  5.3739095164928585e-05 \n",
      " Temporary loss:  5.3707772167399526e-05 \n",
      " Constraint:  tensor([-0.1457], device='cuda:0', grad_fn=<SubBackward0>) \n",
      " Alphas:  tensor([1.1048], device='cuda:0', requires_grad=True)\n",
      "First 10 subset indices:  [9, 24, 37, 44, 54, 59, 64, 77]\n",
      "First 10 subset indices:  [9, 24, 37, 44, 54, 59, 64, 77]\n",
      "Epoch: 351 SubsetTrn 5.329558553057723e-05\n",
      "Previous loss:  5.329632404027507e-05 \n",
      " Temporary loss:  5.329558553057723e-05 \n",
      " Constraint:  tensor([-0.1395], device='cuda:0', grad_fn=<SubBackward0>) \n",
      " Alphas:  tensor([1.1048], device='cuda:0', requires_grad=True)\n",
      "First 10 subset indices:  [9, 24, 37, 44, 54, 59, 64, 77]\n",
      "Epoch: 401 SubsetTrn 5.32885424036067e-05\n",
      "Previous loss:  5.328848783392459e-05 \n",
      " Temporary loss:  5.32885424036067e-05 \n",
      " Constraint:  tensor([-0.1386], device='cuda:0', grad_fn=<SubBackward0>) \n",
      " Alphas:  tensor([1.1048], device='cuda:0', requires_grad=True)\n",
      "First 10 subset indices:  [9, 24, 37, 44, 54, 59, 64, 77]\n",
      "Epoch: 451 SubsetTrn 5.328847328200936e-05\n",
      "Previous loss:  5.328852421371266e-05 \n",
      " Temporary loss:  5.328847328200936e-05 \n",
      " Constraint:  tensor([-0.1385], device='cuda:0', grad_fn=<SubBackward0>) \n",
      " Alphas:  tensor([1.1048], device='cuda:0', requires_grad=True)\n",
      "First 10 subset indices:  [9, 24, 37, 44, 54, 59, 64, 77]\n",
      "First 10 subset indices:  [9, 24, 37, 44, 54, 59, 64, 77]\n",
      "Epoch: 501 SubsetTrn 5.3288535127649084e-05\n",
      "Previous loss:  5.3288484195945784e-05 \n",
      " Temporary loss:  5.3288535127649084e-05 \n",
      " Constraint:  tensor([-0.1385], device='cuda:0', grad_fn=<SubBackward0>) \n",
      " Alphas:  tensor([1.1048], device='cuda:0', requires_grad=True)\n",
      "First 10 subset indices:  [9, 24, 37, 44, 54, 59, 64, 77]\n",
      "Epoch: 551 SubsetTrn 5.3288495109882206e-05\n",
      "Previous loss:  5.328852421371266e-05 \n",
      " Temporary loss:  5.3288495109882206e-05 \n",
      " Constraint:  tensor([-0.1385], device='cuda:0', grad_fn=<SubBackward0>) \n",
      " Alphas:  tensor([1.1048], device='cuda:0', requires_grad=True)\n",
      "First 10 subset indices:  [9, 24, 37, 44, 54, 59, 64, 77]\n",
      "First 10 subset indices:  [9, 24, 37, 44, 54, 59, 64, 77]\n",
      "Epoch: 601 SubsetTrn 5.3288535127649084e-05\n",
      "Previous loss:  5.3288535127649084e-05 \n",
      " Temporary loss:  5.3288535127649084e-05 \n",
      " Constraint:  tensor([-0.1385], device='cuda:0', grad_fn=<SubBackward0>) \n",
      " Alphas:  tensor([1.1048], device='cuda:0', requires_grad=True)\n",
      "First 10 subset indices:  [9, 24, 37, 44, 54, 59, 64, 77]\n",
      "Epoch: 651 SubsetTrn 5.3288535127649084e-05\n",
      "Previous loss:  5.3288535127649084e-05 \n",
      " Temporary loss:  5.3288535127649084e-05 \n",
      " Constraint:  tensor([-0.1385], device='cuda:0', grad_fn=<SubBackward0>) \n",
      " Alphas:  tensor([1.1048], device='cuda:0', requires_grad=True)\n",
      "First 10 subset indices:  [9, 24, 37, 44, 54, 59, 64, 77]\n",
      "First 10 subset indices:  [9, 24, 37, 44, 54, 59, 64, 77]\n",
      "Epoch: 701 SubsetTrn 5.3288535127649084e-05\n",
      "Previous loss:  5.3288535127649084e-05 \n",
      " Temporary loss:  5.3288535127649084e-05 \n",
      " Constraint:  tensor([-0.1385], device='cuda:0', grad_fn=<SubBackward0>) \n",
      " Alphas:  tensor([1.1048], device='cuda:0', requires_grad=True)\n",
      "First 10 subset indices:  [9, 24, 37, 44, 54, 59, 64, 77]\n",
      "Epoch: 751 SubsetTrn 5.3288535127649084e-05\n",
      "Previous loss:  5.3288535127649084e-05 \n",
      " Temporary loss:  5.3288535127649084e-05 \n",
      " Constraint:  tensor([-0.1385], device='cuda:0', grad_fn=<SubBackward0>) \n",
      " Alphas:  tensor([1.1048], device='cuda:0', requires_grad=True)\n",
      "First 10 subset indices:  [9, 24, 37, 44, 54, 59, 64, 77]\n",
      "Epoch: 801 SubsetTrn 5.3288535127649084e-05\n",
      "Previous loss:  5.3288535127649084e-05 \n",
      " Temporary loss:  5.3288535127649084e-05 \n",
      " Constraint:  tensor([-0.1385], device='cuda:0', grad_fn=<SubBackward0>) \n",
      " Alphas:  tensor([1.1048], device='cuda:0', requires_grad=True)\n",
      "First 10 subset indices:  [9, 24, 37, 44, 54, 59, 64, 77]\n",
      "First 10 subset indices:  [9, 24, 37, 44, 54, 59, 64, 77]\n",
      "Epoch: 851 SubsetTrn 5.3288535127649084e-05\n",
      "Previous loss:  5.3288535127649084e-05 \n",
      " Temporary loss:  5.3288535127649084e-05 \n",
      " Constraint:  tensor([-0.1385], device='cuda:0', grad_fn=<SubBackward0>) \n",
      " Alphas:  tensor([1.1048], device='cuda:0', requires_grad=True)\n",
      "First 10 subset indices:  [9, 24, 37, 44, 54, 59, 64, 77]\n",
      "Epoch: 901 SubsetTrn 5.3288535127649084e-05\n",
      "Previous loss:  5.3288535127649084e-05 \n",
      " Temporary loss:  5.3288535127649084e-05 \n",
      " Constraint:  tensor([-0.1385], device='cuda:0', grad_fn=<SubBackward0>) \n",
      " Alphas:  tensor([1.1048], device='cuda:0', requires_grad=True)\n",
      "First 10 subset indices:  [9, 24, 37, 44, 54, 59, 64, 77]\n",
      "First 10 subset indices:  [9, 24, 37, 44, 54, 59, 64, 77]\n",
      "Epoch: 951 SubsetTrn 5.328850238583982e-05\n",
      "Previous loss:  5.3288535127649084e-05 \n",
      " Temporary loss:  5.328850238583982e-05 \n",
      " Constraint:  tensor([-0.1385], device='cuda:0', grad_fn=<SubBackward0>) \n",
      " Alphas:  tensor([1.1048], device='cuda:0', requires_grad=True)\n",
      "First 10 subset indices:  [9, 24, 37, 44, 54, 59, 64, 77]\n",
      "Epoch: 1001 SubsetTrn 5.328847328200936e-05\n",
      "Previous loss:  5.3288546041585505e-05 \n",
      " Temporary loss:  5.328847328200936e-05 \n",
      " Constraint:  tensor([-0.1385], device='cuda:0', grad_fn=<SubBackward0>) \n",
      " Alphas:  tensor([1.1048], device='cuda:0', requires_grad=True)\n",
      "First 10 subset indices:  [9, 24, 37, 44, 54, 59, 64, 77]\n",
      "First 10 subset indices:  [9, 24, 37, 44, 54, 59, 64, 77]\n",
      "Epoch: 1051 SubsetTrn 5.328847328200936e-05\n",
      "Previous loss:  5.3288546041585505e-05 \n",
      " Temporary loss:  5.328847328200936e-05 \n",
      " Constraint:  tensor([-0.1385], device='cuda:0', grad_fn=<SubBackward0>) \n",
      " Alphas:  tensor([1.1048], device='cuda:0', requires_grad=True)\n",
      "First 10 subset indices:  [9, 24, 37, 44, 54, 59, 64, 77]\n",
      "Epoch: 1101 SubsetTrn 5.3288546041585505e-05\n",
      "Previous loss:  5.328847328200936e-05 \n",
      " Temporary loss:  5.3288546041585505e-05 \n",
      " Constraint:  tensor([-0.1385], device='cuda:0', grad_fn=<SubBackward0>) \n",
      " Alphas:  tensor([1.1048], device='cuda:0', requires_grad=True)\n",
      "First 10 subset indices:  [9, 24, 37, 44, 54, 59, 64, 77]\n",
      "Epoch: 1151 SubsetTrn 5.3288444178178906e-05\n",
      "Previous loss:  5.328846600605175e-05 \n",
      " Temporary loss:  5.3288444178178906e-05 \n",
      " Constraint:  tensor([-0.1385], device='cuda:0', grad_fn=<SubBackward0>) \n",
      " Alphas:  tensor([1.1048], device='cuda:0', requires_grad=True)\n",
      "First 10 subset indices:  [9, 24, 37, 44, 54, 59, 64, 77]\n",
      "First 10 subset indices:  [9, 24, 37, 44, 54, 59, 64, 77]\n",
      "Epoch: 1201 SubsetTrn 5.328847691998817e-05\n",
      "Previous loss:  5.328853148967028e-05 \n",
      " Temporary loss:  5.328847691998817e-05 \n",
      " Constraint:  tensor([-0.1385], device='cuda:0', grad_fn=<SubBackward0>) \n",
      " Alphas:  tensor([1.1048], device='cuda:0', requires_grad=True)\n",
      "First 10 subset indices:  [9, 24, 37, 44, 54, 59, 64, 77]\n",
      "Epoch: 1251 SubsetTrn 5.3288546041585505e-05\n",
      "Previous loss:  5.328847328200936e-05 \n",
      " Temporary loss:  5.3288546041585505e-05 \n",
      " Constraint:  tensor([-0.1385], device='cuda:0', grad_fn=<SubBackward0>) \n",
      " Alphas:  tensor([1.1048], device='cuda:0', requires_grad=True)\n",
      "First 10 subset indices:  [9, 24, 37, 44, 54, 59, 64, 77]\n",
      "First 10 subset indices:  [9, 24, 37, 44, 54, 59, 64, 77]\n",
      "Epoch: 1301 SubsetTrn 5.3288495109882206e-05\n",
      "Previous loss:  5.328850238583982e-05 \n",
      " Temporary loss:  5.3288495109882206e-05 \n",
      " Constraint:  tensor([-0.1385], device='cuda:0', grad_fn=<SubBackward0>) \n",
      " Alphas:  tensor([1.1048], device='cuda:0', requires_grad=True)\n",
      "First 10 subset indices:  [9, 24, 37, 44, 54, 59, 64, 77]\n",
      "Epoch: 1351 SubsetTrn 5.328846236807294e-05\n",
      "Previous loss:  5.328852421371266e-05 \n",
      " Temporary loss:  5.328846236807294e-05 \n",
      " Constraint:  tensor([-0.1385], device='cuda:0', grad_fn=<SubBackward0>) \n",
      " Alphas:  tensor([1.1048], device='cuda:0', requires_grad=True)\n",
      "First 10 subset indices:  [9, 24, 37, 44, 54, 59, 64, 77]\n",
      "First 10 subset indices:  [9, 24, 37, 44, 54, 59, 64, 77]\n",
      "Epoch: 1401 SubsetTrn 5.328848783392459e-05\n",
      "Previous loss:  5.328853876562789e-05 \n",
      " Temporary loss:  5.328848783392459e-05 \n",
      " Constraint:  tensor([-0.1385], device='cuda:0', grad_fn=<SubBackward0>) \n",
      " Alphas:  tensor([1.1048], device='cuda:0', requires_grad=True)\n",
      "First 10 subset indices:  [9, 24, 37, 44, 54, 59, 64, 77]\n",
      "Epoch: 1451 SubsetTrn 5.3288582421373576e-05\n",
      "Previous loss:  5.3288582421373576e-05 \n",
      " Temporary loss:  5.3288582421373576e-05 \n",
      " Constraint:  tensor([-0.1385], device='cuda:0', grad_fn=<SubBackward0>) \n",
      " Alphas:  tensor([1.1048], device='cuda:0', requires_grad=True)\n",
      "First 10 subset indices:  [9, 24, 37, 44, 54, 59, 64, 77]\n",
      "Epoch: 1501 SubsetTrn 5.3288495109882206e-05\n",
      "Previous loss:  5.3288495109882206e-05 \n",
      " Temporary loss:  5.3288495109882206e-05 \n",
      " Constraint:  tensor([-0.1385], device='cuda:0', grad_fn=<SubBackward0>) \n",
      " Alphas:  tensor([1.1048], device='cuda:0', requires_grad=True)\n",
      "First 10 subset indices:  [9, 24, 37, 44, 54, 59, 64, 77]\n",
      "First 10 subset indices:  [9, 24, 37, 44, 54, 59, 64, 77]\n",
      "Epoch: 1551 SubsetTrn 5.328853876562789e-05\n",
      "Previous loss:  5.328846600605175e-05 \n",
      " Temporary loss:  5.328853876562789e-05 \n",
      " Constraint:  tensor([-0.1385], device='cuda:0', grad_fn=<SubBackward0>) \n",
      " Alphas:  tensor([1.1048], device='cuda:0', requires_grad=True)\n",
      "First 10 subset indices:  [9, 24, 37, 44, 54, 59, 64, 77]\n",
      "Epoch: 1601 SubsetTrn 5.328847691998817e-05\n",
      "Previous loss:  5.328852421371266e-05 \n",
      " Temporary loss:  5.328847691998817e-05 \n",
      " Constraint:  tensor([-0.1385], device='cuda:0', grad_fn=<SubBackward0>) \n",
      " Alphas:  tensor([1.1048], device='cuda:0', requires_grad=True)\n",
      "First 10 subset indices:  [9, 24, 37, 44, 54, 59, 64, 77]\n",
      "First 10 subset indices:  [9, 24, 37, 44, 54, 59, 64, 77]\n",
      "Epoch: 1651 SubsetTrn 5.3288546041585505e-05\n",
      "Previous loss:  5.3288546041585505e-05 \n",
      " Temporary loss:  5.3288546041585505e-05 \n",
      " Constraint:  tensor([-0.1385], device='cuda:0', grad_fn=<SubBackward0>) \n",
      " Alphas:  tensor([1.1048], device='cuda:0', requires_grad=True)\n",
      "First 10 subset indices:  [9, 24, 37, 44, 54, 59, 64, 77]\n",
      "Epoch: 1701 SubsetTrn 5.3288546041585505e-05\n",
      "Previous loss:  5.3288582421373576e-05 \n",
      " Temporary loss:  5.3288546041585505e-05 \n",
      " Constraint:  tensor([-0.1385], device='cuda:0', grad_fn=<SubBackward0>) \n",
      " Alphas:  tensor([1.1048], device='cuda:0', requires_grad=True)\n",
      "First 10 subset indices:  [9, 24, 37, 44, 54, 59, 64, 77]\n",
      "First 10 subset indices:  [9, 24, 37, 44, 54, 59, 64, 77]\n",
      "Epoch: 1751 SubsetTrn 5.3288582421373576e-05\n",
      "Previous loss:  5.3288546041585505e-05 \n",
      " Temporary loss:  5.3288582421373576e-05 \n",
      " Constraint:  tensor([-0.1385], device='cuda:0', grad_fn=<SubBackward0>) \n",
      " Alphas:  tensor([1.1048], device='cuda:0', requires_grad=True)\n",
      "First 10 subset indices:  [9, 24, 37, 44, 54, 59, 64, 77]\n",
      "Epoch: 1801 SubsetTrn 5.3288546041585505e-05\n",
      "Previous loss:  5.3288546041585505e-05 \n",
      " Temporary loss:  5.3288546041585505e-05 \n",
      " Constraint:  tensor([-0.1385], device='cuda:0', grad_fn=<SubBackward0>) \n",
      " Alphas:  tensor([1.1048], device='cuda:0', requires_grad=True)\n",
      "First 10 subset indices:  [9, 24, 37, 44, 54, 59, 64, 77]\n",
      "Epoch: 1851 SubsetTrn 5.3288546041585505e-05\n",
      "Previous loss:  5.3288582421373576e-05 \n",
      " Temporary loss:  5.3288546041585505e-05 \n",
      " Constraint:  tensor([-0.1385], device='cuda:0', grad_fn=<SubBackward0>) \n",
      " Alphas:  tensor([1.1048], device='cuda:0', requires_grad=True)\n",
      "First 10 subset indices:  [9, 24, 37, 44, 54, 59, 64, 77]\n",
      "First 10 subset indices:  [9, 24, 37, 44, 54, 59, 64, 77]\n",
      "Epoch: 1901 SubsetTrn 5.3288582421373576e-05\n",
      "Previous loss:  5.3288546041585505e-05 \n",
      " Temporary loss:  5.3288582421373576e-05 \n",
      " Constraint:  tensor([-0.1385], device='cuda:0', grad_fn=<SubBackward0>) \n",
      " Alphas:  tensor([1.1048], device='cuda:0', requires_grad=True)\n",
      "First 10 subset indices:  [9, 24, 37, 44, 54, 59, 64, 77]\n",
      "Epoch: 1951 SubsetTrn 5.3288546041585505e-05\n",
      "Previous loss:  5.3288546041585505e-05 \n",
      " Temporary loss:  5.3288546041585505e-05 \n",
      " Constraint:  tensor([-0.1385], device='cuda:0', grad_fn=<SubBackward0>) \n",
      " Alphas:  tensor([1.1048], device='cuda:0', requires_grad=True)\n",
      "First 10 subset indices:  [9, 24, 37, 44, 54, 59, 64, 77]\n",
      "First 10 subset indices:  [9, 24, 37, 44, 54, 59, 64, 77]\n"
     ]
    }
   ],
   "source": [
    "reg = Regression()\n",
    "\n",
    "# X_trn, X_val, Y_trn, Y_val = get_data(X_train, X_val, y_train, y_val)\n",
    "reg.train_model_fair(X_train, y_train, X_val, y_val, fraction = 0.1)\n",
    "# subset_idxs = reg.return_subset()\n",
    "\n",
    "# X_sub = X_trn[subset_idxs]\n",
    "# y_sub = Y_trn[subset_idxs]"
   ]
  },
  {
   "cell_type": "code",
   "execution_count": 6,
   "id": "0d57babb-fb85-4355-ab48-5bcda4a3898f",
   "metadata": {
    "tags": []
   },
   "outputs": [],
   "source": [
    "subset_idxs = reg.return_subset()"
   ]
  },
  {
   "cell_type": "code",
   "execution_count": 33,
   "id": "d810f4cb-ab4b-4aa5-bf9d-70cf2852ff4b",
   "metadata": {
    "tags": []
   },
   "outputs": [
    {
     "data": {
      "text/plain": [
       "array([13, 32, 35, 38, 48, 51, 57, 73])"
      ]
     },
     "execution_count": 33,
     "metadata": {},
     "output_type": "execute_result"
    }
   ],
   "source": [
    "subset_idxs"
   ]
  },
  {
   "cell_type": "code",
   "execution_count": 7,
   "id": "83b5e714-e8ad-4d7b-bf86-fb6070674d39",
   "metadata": {
    "tags": []
   },
   "outputs": [
    {
     "data": {
      "text/plain": [
       "array([ 9, 24, 37, 44, 54, 59, 64, 77])"
      ]
     },
     "execution_count": 7,
     "metadata": {},
     "output_type": "execute_result"
    }
   ],
   "source": [
    "subset_idxs"
   ]
  },
  {
   "cell_type": "code",
   "execution_count": 8,
   "id": "3e05ac8e-9e38-4af0-b5e5-3faca7b5067e",
   "metadata": {
    "tags": []
   },
   "outputs": [],
   "source": [
    "X_sub = X_train[subset_idxs]\n",
    "y_sub = y_train[subset_idxs]"
   ]
  },
  {
   "cell_type": "code",
   "execution_count": 9,
   "id": "683a3fdc-914e-46e9-93d3-e0e04fe4d4c2",
   "metadata": {
    "tags": []
   },
   "outputs": [
    {
     "data": {
      "text/plain": [
       "tensor([0., 1., 0., 0., 0., 0., 1., 1.], device='cuda:0')"
      ]
     },
     "execution_count": 9,
     "metadata": {},
     "output_type": "execute_result"
    }
   ],
   "source": [
    "y_sub"
   ]
  },
  {
   "cell_type": "code",
   "execution_count": 10,
   "id": "e7090971-6426-4458-85ff-9a0c44203977",
   "metadata": {
    "tags": []
   },
   "outputs": [],
   "source": [
    "xx_v = X_sub.cpu().numpy()\n",
    "yy_v = y_sub.cpu().numpy()"
   ]
  },
  {
   "cell_type": "code",
   "execution_count": 11,
   "id": "8d470da5-aa62-4b12-880e-3df0ed270516",
   "metadata": {
    "tags": []
   },
   "outputs": [],
   "source": [
    "xx = X_train.cpu().numpy()\n",
    "yy = y_train.cpu().numpy() "
   ]
  },
  {
   "cell_type": "code",
   "execution_count": 12,
   "id": "5d7c2570-2ee6-425a-919a-d8e19486de15",
   "metadata": {
    "tags": []
   },
   "outputs": [
    {
     "data": {
      "text/plain": [
       "<matplotlib.collections.PathCollection at 0x7eff1cd3a9a0>"
      ]
     },
     "execution_count": 12,
     "metadata": {},
     "output_type": "execute_result"
    },
    {
     "data": {
      "image/png": "[encoded data removed]",
      "text/plain": [
       "<Figure size 640x480 with 1 Axes>"
      ]
     },
     "metadata": {},
     "output_type": "display_data"
    }
   ],
   "source": [
    "import matplotlib.pyplot as plt\n",
    "plt.scatter(xx[:, 0], xx[:, 1], marker=\"o\", c=yy, s=25, edgecolor=\"k\")\n",
    "plt.scatter(xx_v[:, 0], xx_v[:, 1], marker=\"^\", c=yy_v, s=70, edgecolor=\"k\")"
   ]
  }
 ],
 "metadata": {
  "kernelspec": {
   "display_name": "Python 3 (ipykernel)",
   "language": "python",
   "name": "python3"
  },
  "language_info": {
   "codemirror_mode": {
    "name": "ipython",
    "version": 3
   },
   "file_extension": ".py",
   "mimetype": "text/x-python",
   "name": "python",
   "nbconvert_exporter": "python",
   "pygments_lexer": "ipython3",
   "version": "3.8.5"
  }
 },
 "nbformat": 4,
 "nbformat_minor": 5
}
